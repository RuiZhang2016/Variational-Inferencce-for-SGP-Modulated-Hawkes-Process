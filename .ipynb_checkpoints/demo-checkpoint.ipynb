{
 "cells": [
  {
   "cell_type": "markdown",
   "metadata": {},
   "source": [
    "### 1. Install Packages"
   ]
  },
  {
   "cell_type": "code",
   "execution_count": 1,
   "metadata": {},
   "outputs": [
    {
     "name": "stdout",
     "output_type": "stream",
     "text": [
      "Requirement already satisfied: numpy in /home/rzhang/anaconda3/lib/python3.6/site-packages (1.16.1)\n",
      "Requirement already satisfied: scipy==1.2.0 in /home/rzhang/anaconda3/lib/python3.6/site-packages (1.2.0)\n",
      "Requirement already satisfied: matplotlib in /home/rzhang/anaconda3/lib/python3.6/site-packages (3.1.0)\n",
      "Requirement already satisfied: autograd==1.1.13 in /home/rzhang/anaconda3/lib/python3.6/site-packages (1.1.13)\n",
      "Requirement already satisfied: tick==0.5.0.0 in /home/rzhang/anaconda3/lib/python3.6/site-packages (0.5.0.0)\n",
      "Requirement already satisfied: numpydoc==0.7.0 in /home/rzhang/anaconda3/lib/python3.6/site-packages (0.7.0)\n",
      "Requirement already satisfied: pyparsing!=2.0.4,!=2.1.2,!=2.1.6,>=2.0.1 in /home/rzhang/anaconda3/lib/python3.6/site-packages (from matplotlib) (2.4.0)\n",
      "Requirement already satisfied: cycler>=0.10 in /home/rzhang/anaconda3/lib/python3.6/site-packages (from matplotlib) (0.10.0)\n",
      "Requirement already satisfied: kiwisolver>=1.0.1 in /home/rzhang/anaconda3/lib/python3.6/site-packages (from matplotlib) (1.1.0)\n",
      "Requirement already satisfied: python-dateutil>=2.1 in /home/rzhang/anaconda3/lib/python3.6/site-packages (from matplotlib) (2.8.0)\n",
      "Requirement already satisfied: future>=0.15.2 in /home/rzhang/anaconda3/lib/python3.6/site-packages (from autograd==1.1.13) (0.17.1)\n",
      "Requirement already satisfied: sphinx in /home/rzhang/anaconda3/lib/python3.6/site-packages (from tick==0.5.0.0) (1.7.4)\n",
      "Requirement already satisfied: pandas in /home/rzhang/anaconda3/lib/python3.6/site-packages (from tick==0.5.0.0) (0.23.0)\n",
      "Requirement already satisfied: scikit-learn in /home/rzhang/anaconda3/lib/python3.6/site-packages (from tick==0.5.0.0) (0.19.1)\n",
      "Requirement already satisfied: Jinja2>=2.3 in /home/rzhang/anaconda3/lib/python3.6/site-packages (from numpydoc==0.7.0) (2.10)\n",
      "Requirement already satisfied: six in /home/rzhang/anaconda3/lib/python3.6/site-packages (from cycler>=0.10->matplotlib) (1.12.0)\n",
      "Requirement already satisfied: setuptools in /home/rzhang/anaconda3/lib/python3.6/site-packages (from kiwisolver>=1.0.1->matplotlib) (41.0.1)\n",
      "Requirement already satisfied: Pygments>=2.0 in /home/rzhang/anaconda3/lib/python3.6/site-packages (from sphinx->tick==0.5.0.0) (2.2.0)\n",
      "Requirement already satisfied: docutils>=0.11 in /home/rzhang/anaconda3/lib/python3.6/site-packages (from sphinx->tick==0.5.0.0) (0.14)\n",
      "Requirement already satisfied: snowballstemmer>=1.1 in /home/rzhang/anaconda3/lib/python3.6/site-packages (from sphinx->tick==0.5.0.0) (1.2.1)\n",
      "Requirement already satisfied: babel!=2.0,>=1.3 in /home/rzhang/anaconda3/lib/python3.6/site-packages (from sphinx->tick==0.5.0.0) (2.5.3)\n",
      "Requirement already satisfied: alabaster<0.8,>=0.7 in /home/rzhang/anaconda3/lib/python3.6/site-packages (from sphinx->tick==0.5.0.0) (0.7.10)\n",
      "Requirement already satisfied: imagesize in /home/rzhang/anaconda3/lib/python3.6/site-packages (from sphinx->tick==0.5.0.0) (1.0.0)\n",
      "Requirement already satisfied: requests>=2.0.0 in /home/rzhang/anaconda3/lib/python3.6/site-packages (from sphinx->tick==0.5.0.0) (2.18.4)\n",
      "Requirement already satisfied: packaging in /home/rzhang/anaconda3/lib/python3.6/site-packages (from sphinx->tick==0.5.0.0) (17.1)\n",
      "Requirement already satisfied: sphinxcontrib-websupport in /home/rzhang/anaconda3/lib/python3.6/site-packages (from sphinx->tick==0.5.0.0) (1.0.1)\n",
      "Requirement already satisfied: pytz>=2011k in /home/rzhang/anaconda3/lib/python3.6/site-packages (from pandas->tick==0.5.0.0) (2018.4)\n",
      "Requirement already satisfied: MarkupSafe>=0.23 in /home/rzhang/anaconda3/lib/python3.6/site-packages (from Jinja2>=2.3->numpydoc==0.7.0) (1.0)\n",
      "Requirement already satisfied: chardet<3.1.0,>=3.0.2 in /home/rzhang/anaconda3/lib/python3.6/site-packages (from requests>=2.0.0->sphinx->tick==0.5.0.0) (3.0.4)\n",
      "Requirement already satisfied: idna<2.7,>=2.5 in /home/rzhang/anaconda3/lib/python3.6/site-packages (from requests>=2.0.0->sphinx->tick==0.5.0.0) (2.6)\n",
      "Requirement already satisfied: urllib3<1.23,>=1.21.1 in /home/rzhang/anaconda3/lib/python3.6/site-packages (from requests>=2.0.0->sphinx->tick==0.5.0.0) (1.22)\n",
      "Requirement already satisfied: certifi>=2017.4.17 in /home/rzhang/anaconda3/lib/python3.6/site-packages (from requests>=2.0.0->sphinx->tick==0.5.0.0) (2018.4.16)\n",
      "\u001b[33mYou are using pip version 18.0, however version 19.3.1 is available.\n",
      "You should consider upgrading via the 'pip install --upgrade pip' command.\u001b[0m\n",
      "Cloning into 'VBHP'...\n",
      "remote: Enumerating objects: 31, done.\u001b[K\n",
      "remote: Counting objects: 100% (31/31), done.\u001b[K\n",
      "remote: Compressing objects: 100% (30/30), done.\u001b[K\n",
      "remote: Total 31 (delta 9), reused 0 (delta 0), pack-reused 0\u001b[K\n",
      "Unpacking objects: 100% (31/31), done.\n"
     ]
    }
   ],
   "source": [
    "!pip3 install numpy scipy==1.2.0 matplotlib autograd==1.1.13 tick==0.5.0.0 numpydoc==0.7.0\n",
    "import os \n",
    "if os.path.exists('VBHP'):\n",
    "    # update VBHP repo\n",
    "    ! rm -rf VBHP\n",
    "try:\n",
    "    !git clone https://github.com/RuiZhang2016/Variational-Inferencce-for-SGP-Modulated-Hawkes-Process.git VBHP\n",
    "except Exception as e:\n",
    "    print(e)\n",
    "import sys\n",
    "sys.path.append('./VBHP')"
   ]
  },
  {
   "cell_type": "markdown",
   "metadata": {},
   "source": [
    "### 2. Import Packages"
   ]
  },
  {
   "cell_type": "code",
   "execution_count": 2,
   "metadata": {},
   "outputs": [
    {
     "name": "stderr",
     "output_type": "stream",
     "text": [
      "/home/rzhang/anaconda3/lib/python3.6/site-packages/autograd/core.py:120: UserWarning: \n",
      "------------------------------\n",
      "    defgrad is deprecated!\n",
      "------------------------------\n",
      "Use defvjp instead (\"define vector-Jacobian product\").\n",
      "The interface is a little different - look at\n",
      "autograd/numpy/numpy_grads.py for examples.\n",
      "\n",
      "  warnings.warn(defgrad_deprecated)\n",
      "/home/rzhang/anaconda3/lib/python3.6/site-packages/autograd/core.py:120: UserWarning: \n",
      "------------------------------\n",
      "    defgrad is deprecated!\n",
      "------------------------------\n",
      "Use defvjp instead (\"define vector-Jacobian product\").\n",
      "The interface is a little different - look at\n",
      "autograd/numpy/numpy_grads.py for examples.\n",
      "\n",
      "  warnings.warn(defgrad_deprecated)\n",
      "/home/rzhang/anaconda3/lib/python3.6/site-packages/h5py/__init__.py:36: FutureWarning: Conversion of the second argument of issubdtype from `float` to `np.floating` is deprecated. In future, it will be treated as `np.float64 == np.dtype(float).type`.\n",
      "  from ._conv import register_converters as _register_converters\n"
     ]
    }
   ],
   "source": [
    "import autograd.scipy.special as special\n",
    "from util import *\n",
    "import equations\n",
    "import autograd.numpy as np\n",
    "import matplotlib.pyplot as plt\n",
    "from autograd import grad\n",
    "from vbhp import fit_vbhp\n",
    "import wp\n",
    "from scipy.optimize import minimize\n",
    "from tick.hawkes import HawkesKernelTimeFunc, SimuHawkes\n",
    "from tick.base import TimeFunction"
   ]
  },
  {
   "cell_type": "markdown",
   "metadata": {},
   "source": [
    "### 3. Define a Triggering Kernel"
   ]
  },
  {
   "cell_type": "markdown",
   "metadata": {},
   "source": [
    "Define a triggering kernel: $$\\phi(t)=\\begin{cases}0.9[\\sin(3t)+1], & t\\in [0,\\pi) \\\\ 0, & \\text{otherwise} \\end{cases}.$$"
   ]
  },
  {
   "cell_type": "code",
   "execution_count": 3,
   "metadata": {},
   "outputs": [],
   "source": [
    "ts = np.linspace(0, np.pi / 2, 512) # support\n",
    "f = lambda t: (np.sin(3 * t)+1)*0.9\n",
    "ys = f(ts)\n",
    "kernel = HawkesKernelTimeFunc(t_values=ts, y_values=ys) # for simulation"
   ]
  },
  {
   "cell_type": "markdown",
   "metadata": {},
   "source": [
    "#### plot the triggering kernel"
   ]
  },
  {
   "cell_type": "code",
   "execution_count": 4,
   "metadata": {},
   "outputs": [
    {
     "data": {
      "image/png": "[encoded data removed]",
      "text/plain": [
       "<Figure size 432x288 with 1 Axes>"
      ]
     },
     "metadata": {},
     "output_type": "display_data"
    }
   ],
   "source": [
    "fontsize=22\n",
    "xplot = np.linspace(0,np.pi,128)\n",
    "yplot = kernel.get_values(xplot)\n",
    "plt.plot(xplot,yplot,linewidth=4)\n",
    "plt.xlabel('t',fontsize=fontsize)\n",
    "plt.ylabel('$\\phi(t)$',fontsize=fontsize)\n",
    "plt.xticks(fontsize=fontsize)\n",
    "plt.yticks(fontsize=fontsize)\n",
    "plt.show()"
   ]
  },
  {
   "cell_type": "markdown",
   "metadata": {},
   "source": [
    "### 4. Simulate a Hawkes Process\n",
    "The background intensity is $\\mu = 10$."
   ]
  },
  {
   "cell_type": "code",
   "execution_count": 5,
   "metadata": {},
   "outputs": [
    {
     "name": "stdout",
     "output_type": "stream",
     "text": [
      "The generated time points: \n",
      "0.011, 0.102, 0.517, 0.599, 0.678, 0.818, 0.831, 0.841, 0.883, ..., 0.011, 3.141, 3.140, 3.138 (303 points).\n"
     ]
    }
   ],
   "source": [
    "run_time = np.pi\n",
    "mu = 10\n",
    "hawkes = SimuHawkes(baseline=[mu], verbose=False, force_simulation=True, end_time=run_time, seed=1320)\n",
    "hawkes.set_kernel(0, 0, kernel)\n",
    "hawkes.simulate()\n",
    "times = np.array(hawkes.timestamps)\n",
    "print('The generated time points: ')\n",
    "for i in range(9):\n",
    "    print('{0:.3f}'.format(times[0,i]),end=', ')\n",
    "print('...',end='')\n",
    "for i in range(4):\n",
    "    print(', {0:.3f}'.format(times[0,len(times)-1-i]),end='')\n",
    "print(' ({} points).'.format(times.shape[1]))"
   ]
  },
  {
   "cell_type": "markdown",
   "metadata": {},
   "source": [
    "### 5. Infer the Posterior Triggering Kernel by VBHP \n",
    "Search hyper-parameters over $[0.01, 10]^2$, exploit 10 inducing points and use $[0, 1.4]$ as the triggering kernel support."
   ]
  },
  {
   "cell_type": "code",
   "execution_count": 6,
   "metadata": {},
   "outputs": [
    {
     "ename": "KeyboardInterrupt",
     "evalue": "",
     "output_type": "error",
     "traceback": [
      "\u001b[0;31m---------------------------------------------------------------------------\u001b[0m",
      "\u001b[0;31mKeyboardInterrupt\u001b[0m                         Traceback (most recent call last)",
      "\u001b[0;32m~/anaconda3/lib/python3.6/site-packages/joblib/parallel.py\u001b[0m in \u001b[0;36mretrieve\u001b[0;34m(self)\u001b[0m\n\u001b[1;32m    832\u001b[0m                 \u001b[0;32mif\u001b[0m \u001b[0mgetattr\u001b[0m\u001b[0;34m(\u001b[0m\u001b[0mself\u001b[0m\u001b[0;34m.\u001b[0m\u001b[0m_backend\u001b[0m\u001b[0;34m,\u001b[0m \u001b[0;34m'supports_timeout'\u001b[0m\u001b[0;34m,\u001b[0m \u001b[0;32mFalse\u001b[0m\u001b[0;34m)\u001b[0m\u001b[0;34m:\u001b[0m\u001b[0;34m\u001b[0m\u001b[0m\n\u001b[0;32m--> 833\u001b[0;31m                     \u001b[0mself\u001b[0m\u001b[0;34m.\u001b[0m\u001b[0m_output\u001b[0m\u001b[0;34m.\u001b[0m\u001b[0mextend\u001b[0m\u001b[0;34m(\u001b[0m\u001b[0mjob\u001b[0m\u001b[0;34m.\u001b[0m\u001b[0mget\u001b[0m\u001b[0;34m(\u001b[0m\u001b[0mtimeout\u001b[0m\u001b[0;34m=\u001b[0m\u001b[0mself\u001b[0m\u001b[0;34m.\u001b[0m\u001b[0mtimeout\u001b[0m\u001b[0;34m)\u001b[0m\u001b[0;34m)\u001b[0m\u001b[0;34m\u001b[0m\u001b[0m\n\u001b[0m\u001b[1;32m    834\u001b[0m                 \u001b[0;32melse\u001b[0m\u001b[0;34m:\u001b[0m\u001b[0;34m\u001b[0m\u001b[0m\n",
      "\u001b[0;32m~/anaconda3/lib/python3.6/site-packages/joblib/_parallel_backends.py\u001b[0m in \u001b[0;36mwrap_future_result\u001b[0;34m(future, timeout)\u001b[0m\n\u001b[1;32m    520\u001b[0m         \u001b[0;32mtry\u001b[0m\u001b[0;34m:\u001b[0m\u001b[0;34m\u001b[0m\u001b[0m\n\u001b[0;32m--> 521\u001b[0;31m             \u001b[0;32mreturn\u001b[0m \u001b[0mfuture\u001b[0m\u001b[0;34m.\u001b[0m\u001b[0mresult\u001b[0m\u001b[0;34m(\u001b[0m\u001b[0mtimeout\u001b[0m\u001b[0;34m=\u001b[0m\u001b[0mtimeout\u001b[0m\u001b[0;34m)\u001b[0m\u001b[0;34m\u001b[0m\u001b[0m\n\u001b[0m\u001b[1;32m    522\u001b[0m         \u001b[0;32mexcept\u001b[0m \u001b[0mLokyTimeoutError\u001b[0m\u001b[0;34m:\u001b[0m\u001b[0;34m\u001b[0m\u001b[0m\n",
      "\u001b[0;32m~/anaconda3/lib/python3.6/concurrent/futures/_base.py\u001b[0m in \u001b[0;36mresult\u001b[0;34m(self, timeout)\u001b[0m\n\u001b[1;32m    426\u001b[0m \u001b[0;34m\u001b[0m\u001b[0m\n\u001b[0;32m--> 427\u001b[0;31m             \u001b[0mself\u001b[0m\u001b[0;34m.\u001b[0m\u001b[0m_condition\u001b[0m\u001b[0;34m.\u001b[0m\u001b[0mwait\u001b[0m\u001b[0;34m(\u001b[0m\u001b[0mtimeout\u001b[0m\u001b[0;34m)\u001b[0m\u001b[0;34m\u001b[0m\u001b[0m\n\u001b[0m\u001b[1;32m    428\u001b[0m \u001b[0;34m\u001b[0m\u001b[0m\n",
      "\u001b[0;32m~/anaconda3/lib/python3.6/threading.py\u001b[0m in \u001b[0;36mwait\u001b[0;34m(self, timeout)\u001b[0m\n\u001b[1;32m    294\u001b[0m             \u001b[0;32mif\u001b[0m \u001b[0mtimeout\u001b[0m \u001b[0;32mis\u001b[0m \u001b[0;32mNone\u001b[0m\u001b[0;34m:\u001b[0m\u001b[0;34m\u001b[0m\u001b[0m\n\u001b[0;32m--> 295\u001b[0;31m                 \u001b[0mwaiter\u001b[0m\u001b[0;34m.\u001b[0m\u001b[0macquire\u001b[0m\u001b[0;34m(\u001b[0m\u001b[0;34m)\u001b[0m\u001b[0;34m\u001b[0m\u001b[0m\n\u001b[0m\u001b[1;32m    296\u001b[0m                 \u001b[0mgotit\u001b[0m \u001b[0;34m=\u001b[0m \u001b[0;32mTrue\u001b[0m\u001b[0;34m\u001b[0m\u001b[0m\n",
      "\u001b[0;31mKeyboardInterrupt\u001b[0m: ",
      "\nDuring handling of the above exception, another exception occurred:\n",
      "\u001b[0;31mKeyboardInterrupt\u001b[0m                         Traceback (most recent call last)",
      "\u001b[0;32m<ipython-input-6-c7d132f1f4a3>\u001b[0m in \u001b[0;36m<module>\u001b[0;34m()\u001b[0m\n\u001b[1;32m     12\u001b[0m \u001b[0;31m# Parallel\u001b[0m\u001b[0;34m\u001b[0m\u001b[0;34m\u001b[0m\u001b[0m\n\u001b[1;32m     13\u001b[0m \u001b[0;32mfrom\u001b[0m \u001b[0mjoblib\u001b[0m \u001b[0;32mimport\u001b[0m \u001b[0mParallel\u001b[0m\u001b[0;34m,\u001b[0m \u001b[0mdelayed\u001b[0m\u001b[0;34m\u001b[0m\u001b[0m\n\u001b[0;32m---> 14\u001b[0;31m \u001b[0mres\u001b[0m \u001b[0;34m=\u001b[0m \u001b[0mParallel\u001b[0m\u001b[0;34m(\u001b[0m\u001b[0mn_jobs\u001b[0m\u001b[0;34m=\u001b[0m\u001b[0;36m7\u001b[0m\u001b[0;34m)\u001b[0m\u001b[0;34m(\u001b[0m\u001b[0mdelayed\u001b[0m\u001b[0;34m(\u001b[0m\u001b[0mfit_vbhp\u001b[0m\u001b[0;34m)\u001b[0m\u001b[0;34m(\u001b[0m\u001b[0;34m[\u001b[0m\u001b[0mtimes\u001b[0m\u001b[0;34m]\u001b[0m\u001b[0;34m,\u001b[0m \u001b[0mnz\u001b[0m\u001b[0;34m,\u001b[0m \u001b[0mzmax\u001b[0m\u001b[0;34m,\u001b[0m \u001b[0mrun_time\u001b[0m\u001b[0;34m,\u001b[0m \u001b[0;34m'sin'\u001b[0m\u001b[0;34m,\u001b[0m \u001b[0;32mFalse\u001b[0m\u001b[0;34m,\u001b[0m \u001b[0mga\u001b[0m\u001b[0;34m,\u001b[0m\u001b[0malpha\u001b[0m\u001b[0;34m,\u001b[0m\u001b[0msupport\u001b[0m\u001b[0;34m)\u001b[0m \u001b[0;32mfor\u001b[0m \u001b[0mga\u001b[0m \u001b[0;32min\u001b[0m \u001b[0mgammas\u001b[0m \u001b[0;32mfor\u001b[0m \u001b[0malpha\u001b[0m \u001b[0;32min\u001b[0m \u001b[0malphas\u001b[0m\u001b[0;34m)\u001b[0m\u001b[0;34m\u001b[0m\u001b[0m\n\u001b[0m",
      "\u001b[0;32m~/anaconda3/lib/python3.6/site-packages/joblib/parallel.py\u001b[0m in \u001b[0;36m__call__\u001b[0;34m(self, iterable)\u001b[0m\n\u001b[1;32m    928\u001b[0m \u001b[0;34m\u001b[0m\u001b[0m\n\u001b[1;32m    929\u001b[0m             \u001b[0;32mwith\u001b[0m \u001b[0mself\u001b[0m\u001b[0;34m.\u001b[0m\u001b[0m_backend\u001b[0m\u001b[0;34m.\u001b[0m\u001b[0mretrieval_context\u001b[0m\u001b[0;34m(\u001b[0m\u001b[0;34m)\u001b[0m\u001b[0;34m:\u001b[0m\u001b[0;34m\u001b[0m\u001b[0m\n\u001b[0;32m--> 930\u001b[0;31m                 \u001b[0mself\u001b[0m\u001b[0;34m.\u001b[0m\u001b[0mretrieve\u001b[0m\u001b[0;34m(\u001b[0m\u001b[0;34m)\u001b[0m\u001b[0;34m\u001b[0m\u001b[0m\n\u001b[0m\u001b[1;32m    931\u001b[0m             \u001b[0;31m# Make sure that we get a last message telling us we are done\u001b[0m\u001b[0;34m\u001b[0m\u001b[0;34m\u001b[0m\u001b[0m\n\u001b[1;32m    932\u001b[0m             \u001b[0melapsed_time\u001b[0m \u001b[0;34m=\u001b[0m \u001b[0mtime\u001b[0m\u001b[0;34m.\u001b[0m\u001b[0mtime\u001b[0m\u001b[0;34m(\u001b[0m\u001b[0;34m)\u001b[0m \u001b[0;34m-\u001b[0m \u001b[0mself\u001b[0m\u001b[0;34m.\u001b[0m\u001b[0m_start_time\u001b[0m\u001b[0;34m\u001b[0m\u001b[0m\n",
      "\u001b[0;32m~/anaconda3/lib/python3.6/site-packages/joblib/parallel.py\u001b[0m in \u001b[0;36mretrieve\u001b[0;34m(self)\u001b[0m\n\u001b[1;32m    853\u001b[0m                     \u001b[0;31m# scheduling.\u001b[0m\u001b[0;34m\u001b[0m\u001b[0;34m\u001b[0m\u001b[0m\n\u001b[1;32m    854\u001b[0m                     \u001b[0mensure_ready\u001b[0m \u001b[0;34m=\u001b[0m \u001b[0mself\u001b[0m\u001b[0;34m.\u001b[0m\u001b[0m_managed_backend\u001b[0m\u001b[0;34m\u001b[0m\u001b[0m\n\u001b[0;32m--> 855\u001b[0;31m                     \u001b[0mbackend\u001b[0m\u001b[0;34m.\u001b[0m\u001b[0mabort_everything\u001b[0m\u001b[0;34m(\u001b[0m\u001b[0mensure_ready\u001b[0m\u001b[0;34m=\u001b[0m\u001b[0mensure_ready\u001b[0m\u001b[0;34m)\u001b[0m\u001b[0;34m\u001b[0m\u001b[0m\n\u001b[0m\u001b[1;32m    856\u001b[0m \u001b[0;34m\u001b[0m\u001b[0m\n\u001b[1;32m    857\u001b[0m                 \u001b[0;32mif\u001b[0m \u001b[0misinstance\u001b[0m\u001b[0;34m(\u001b[0m\u001b[0mexception\u001b[0m\u001b[0;34m,\u001b[0m \u001b[0mTransportableException\u001b[0m\u001b[0;34m)\u001b[0m\u001b[0;34m:\u001b[0m\u001b[0;34m\u001b[0m\u001b[0m\n",
      "\u001b[0;32m~/anaconda3/lib/python3.6/site-packages/joblib/_parallel_backends.py\u001b[0m in \u001b[0;36mabort_everything\u001b[0;34m(self, ensure_ready)\u001b[0m\n\u001b[1;32m    536\u001b[0m         \"\"\"Shutdown the workers and restart a new one with the same parameters\n\u001b[1;32m    537\u001b[0m         \"\"\"\n\u001b[0;32m--> 538\u001b[0;31m         \u001b[0mself\u001b[0m\u001b[0;34m.\u001b[0m\u001b[0m_workers\u001b[0m\u001b[0;34m.\u001b[0m\u001b[0mshutdown\u001b[0m\u001b[0;34m(\u001b[0m\u001b[0mkill_workers\u001b[0m\u001b[0;34m=\u001b[0m\u001b[0;32mTrue\u001b[0m\u001b[0;34m)\u001b[0m\u001b[0;34m\u001b[0m\u001b[0m\n\u001b[0m\u001b[1;32m    539\u001b[0m         \u001b[0mdelete_folder\u001b[0m\u001b[0;34m(\u001b[0m\u001b[0mself\u001b[0m\u001b[0;34m.\u001b[0m\u001b[0m_workers\u001b[0m\u001b[0;34m.\u001b[0m\u001b[0m_temp_folder\u001b[0m\u001b[0;34m)\u001b[0m\u001b[0;34m\u001b[0m\u001b[0m\n\u001b[1;32m    540\u001b[0m         \u001b[0mself\u001b[0m\u001b[0;34m.\u001b[0m\u001b[0m_workers\u001b[0m \u001b[0;34m=\u001b[0m \u001b[0;32mNone\u001b[0m\u001b[0;34m\u001b[0m\u001b[0m\n",
      "\u001b[0;32m~/anaconda3/lib/python3.6/site-packages/joblib/externals/loky/process_executor.py\u001b[0m in \u001b[0;36mshutdown\u001b[0;34m(self, wait, kill_workers)\u001b[0m\n\u001b[1;32m   1094\u001b[0m                     \u001b[0;32mpass\u001b[0m\u001b[0;34m\u001b[0m\u001b[0m\n\u001b[1;32m   1095\u001b[0m             \u001b[0;32mif\u001b[0m \u001b[0mwait\u001b[0m\u001b[0;34m:\u001b[0m\u001b[0;34m\u001b[0m\u001b[0m\n\u001b[0;32m-> 1096\u001b[0;31m                 \u001b[0mqmt\u001b[0m\u001b[0;34m.\u001b[0m\u001b[0mjoin\u001b[0m\u001b[0;34m(\u001b[0m\u001b[0;34m)\u001b[0m\u001b[0;34m\u001b[0m\u001b[0m\n\u001b[0m\u001b[1;32m   1097\u001b[0m \u001b[0;34m\u001b[0m\u001b[0m\n\u001b[1;32m   1098\u001b[0m         \u001b[0mcq\u001b[0m \u001b[0;34m=\u001b[0m \u001b[0mself\u001b[0m\u001b[0;34m.\u001b[0m\u001b[0m_call_queue\u001b[0m\u001b[0;34m\u001b[0m\u001b[0m\n",
      "\u001b[0;32m~/anaconda3/lib/python3.6/threading.py\u001b[0m in \u001b[0;36mjoin\u001b[0;34m(self, timeout)\u001b[0m\n\u001b[1;32m   1054\u001b[0m \u001b[0;34m\u001b[0m\u001b[0m\n\u001b[1;32m   1055\u001b[0m         \u001b[0;32mif\u001b[0m \u001b[0mtimeout\u001b[0m \u001b[0;32mis\u001b[0m \u001b[0;32mNone\u001b[0m\u001b[0;34m:\u001b[0m\u001b[0;34m\u001b[0m\u001b[0m\n\u001b[0;32m-> 1056\u001b[0;31m             \u001b[0mself\u001b[0m\u001b[0;34m.\u001b[0m\u001b[0m_wait_for_tstate_lock\u001b[0m\u001b[0;34m(\u001b[0m\u001b[0;34m)\u001b[0m\u001b[0;34m\u001b[0m\u001b[0m\n\u001b[0m\u001b[1;32m   1057\u001b[0m         \u001b[0;32melse\u001b[0m\u001b[0;34m:\u001b[0m\u001b[0;34m\u001b[0m\u001b[0m\n\u001b[1;32m   1058\u001b[0m             \u001b[0;31m# the behavior of a negative timeout isn't documented, but\u001b[0m\u001b[0;34m\u001b[0m\u001b[0;34m\u001b[0m\u001b[0m\n",
      "\u001b[0;32m~/anaconda3/lib/python3.6/threading.py\u001b[0m in \u001b[0;36m_wait_for_tstate_lock\u001b[0;34m(self, block, timeout)\u001b[0m\n\u001b[1;32m   1070\u001b[0m         \u001b[0;32mif\u001b[0m \u001b[0mlock\u001b[0m \u001b[0;32mis\u001b[0m \u001b[0;32mNone\u001b[0m\u001b[0;34m:\u001b[0m  \u001b[0;31m# already determined that the C code is done\u001b[0m\u001b[0;34m\u001b[0m\u001b[0m\n\u001b[1;32m   1071\u001b[0m             \u001b[0;32massert\u001b[0m \u001b[0mself\u001b[0m\u001b[0;34m.\u001b[0m\u001b[0m_is_stopped\u001b[0m\u001b[0;34m\u001b[0m\u001b[0m\n\u001b[0;32m-> 1072\u001b[0;31m         \u001b[0;32melif\u001b[0m \u001b[0mlock\u001b[0m\u001b[0;34m.\u001b[0m\u001b[0macquire\u001b[0m\u001b[0;34m(\u001b[0m\u001b[0mblock\u001b[0m\u001b[0;34m,\u001b[0m \u001b[0mtimeout\u001b[0m\u001b[0;34m)\u001b[0m\u001b[0;34m:\u001b[0m\u001b[0;34m\u001b[0m\u001b[0m\n\u001b[0m\u001b[1;32m   1073\u001b[0m             \u001b[0mlock\u001b[0m\u001b[0;34m.\u001b[0m\u001b[0mrelease\u001b[0m\u001b[0;34m(\u001b[0m\u001b[0;34m)\u001b[0m\u001b[0;34m\u001b[0m\u001b[0m\n\u001b[1;32m   1074\u001b[0m             \u001b[0mself\u001b[0m\u001b[0;34m.\u001b[0m\u001b[0m_stop\u001b[0m\u001b[0;34m(\u001b[0m\u001b[0;34m)\u001b[0m\u001b[0;34m\u001b[0m\u001b[0m\n",
      "\u001b[0;31mKeyboardInterrupt\u001b[0m: "
     ]
    }
   ],
   "source": [
    "nparams = 8\n",
    "alphas = np.logspace(-2, 1, nparams)\n",
    "gammas = np.logspace(-2, 1, nparams)\n",
    "\n",
    "nz = 10\n",
    "zmax = 3.14\n",
    "support = 1.4\n",
    "\n",
    "# Non-parallel\n",
    "# l2s =[fit_vbhp([hp], nz, zmax, run_time, 'sin', False, ga,alpha,support) for ga in gammas for alpha in alphas]\n",
    "\n",
    "# Parallel\n",
    "from joblib import Parallel, delayed\n",
    "res = Parallel(n_jobs=7)(delayed(fit_vbhp)([times], nz, zmax, run_time, 'sin', False, ga,alpha,support) for ga in gammas for alpha in alphas)"
   ]
  },
  {
   "cell_type": "markdown",
   "metadata": {},
   "source": [
    "#### Select the posterior triggering kernel by maximizing the marginal likelihood and plot it."
   ]
  },
  {
   "cell_type": "code",
   "execution_count": null,
   "metadata": {},
   "outputs": [],
   "source": [
    "mls = np.array([e[0] for e in res])\n",
    "ind = np.argwhere(mls.max()==mls)[0,0]\n",
    "paramslin = res[ind][1]\n",
    "mls = mls.reshape((nparams,nparams))\n",
    "ga_alpha = np.argwhere(mls.max()==mls)[0]\n",
    "gamma = gammas[ga_alpha[0]]\n",
    "alpha = alphas[ga_alpha[1]]\n",
    "xplot = np.linspace(0,3,128).reshape((1,-1))\n",
    "fontsize=28\n",
    "params = unlinearise_params(paramslin)\n",
    "z = np.linspace(1e-6,zmax,nz).reshape((1,-1))\n",
    "taus = [np.array([(times[0, i] - times[0, :i])[times[0, i] - times[0, :i]<=support]]) for i in range(1, times.shape[1])]\n",
    "precomp = equations.precompute(z, gamma, alpha, run_time, times[0],taus)\n",
    "mutilde, sigmatilde2, Sigmatilde = equations.predictive(params.L, params.m,\n",
    "                                   precomp,equations.precompute_predictive(xplot,z,gamma,alpha))\n",
    "ticksize = 28\n",
    "quantiles = squared_normal_quantiles(mutilde, sigmatilde2 ** 0.5, [0.10, 0.5, 0.9], double=True)\n",
    "wp.gpplot(xplot.flatten(), quantiles[:, 1], quantiles[:, 0], quantiles[:, 2],\n",
    "          fillcol='r', edgecol='r',mulabel='VBHP')\n",
    "plt.plot(xplot.flatten(), kernel.get_values(xplot.flatten()),'-.',color='g',label='Truth',linewidth=5)\n",
    "\n",
    "plt.legend(prop={'size': 26})\n",
    "plt.xticks(fontsize=ticksize)\n",
    "plt.yticks(fontsize=ticksize)\n",
    "plt.xlabel('Time Difference',fontsize=fontsize)\n",
    "plt.ylabel('Triggering Kernel Value',fontsize=fontsize)\n",
    "plt.show()"
   ]
  },
  {
   "cell_type": "code",
   "execution_count": null,
   "metadata": {},
   "outputs": [],
   "source": []
  }
 ],
 "metadata": {
  "kernelspec": {
   "display_name": "Python [conda root]",
   "language": "python",
   "name": "conda-root-py"
  },
  "language_info": {
   "codemirror_mode": {
    "name": "ipython",
    "version": 3
   },
   "file_extension": ".py",
   "mimetype": "text/x-python",
   "name": "python",
   "nbconvert_exporter": "python",
   "pygments_lexer": "ipython3",
   "version": "3.6.5"
  }
 },
 "nbformat": 4,
 "nbformat_minor": 2
}
